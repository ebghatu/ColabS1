{
  "nbformat": 4,
  "nbformat_minor": 0,
  "metadata": {
    "colab": {
      "provenance": [],
      "toc_visible": true,
      "include_colab_link": true
    },
    "kernelspec": {
      "name": "python3",
      "display_name": "Python 3"
    },
    "language_info": {
      "name": "python"
    }
  },
  "cells": [
    {
      "cell_type": "markdown",
      "metadata": {
        "id": "view-in-github",
        "colab_type": "text"
      },
      "source": [
        "<a href=\"https://colab.research.google.com/github/ebghatu/ColabS1/blob/main/intro_to_cs_30_11_22.ipynb\" target=\"_parent\"><img src=\"https://colab.research.google.com/assets/colab-badge.svg\" alt=\"Open In Colab\"/></a>"
      ]
    },
    {
      "cell_type": "code",
      "execution_count": null,
      "metadata": {
        "id": "O7kJTr8CW0D7"
      },
      "outputs": [],
      "source": [
        "print('Hello')"
      ]
    },
    {
      "cell_type": "code",
      "source": [
        "from google.colab import drive\n",
        "drive.mount('/content/drive')"
      ],
      "metadata": {
        "id": "eCRqvalbUtL0"
      },
      "execution_count": null,
      "outputs": []
    },
    {
      "cell_type": "code",
      "source": [
        "x=1\n",
        "print(x)"
      ],
      "metadata": {
        "id": "yxTotwrZD5GC",
        "colab": {
          "base_uri": "https://localhost:8080/"
        },
        "outputId": "173537a2-e636-467b-80b7-286001dfe9e9"
      },
      "execution_count": null,
      "outputs": [
        {
          "output_type": "stream",
          "name": "stdout",
          "text": [
            "1\n"
          ]
        }
      ]
    },
    {
      "cell_type": "code",
      "source": [
        "x=1\n",
        "y=2\n",
        "c=x-y\n",
        "print(c)"
      ],
      "metadata": {
        "id": "99L7sUIBD3QA",
        "colab": {
          "base_uri": "https://localhost:8080/"
        },
        "outputId": "91868db2-ec69-4b18-ba74-3e70aac6fdc5"
      },
      "execution_count": null,
      "outputs": [
        {
          "output_type": "stream",
          "name": "stdout",
          "text": [
            "-1\n"
          ]
        }
      ]
    },
    {
      "cell_type": "code",
      "source": [
        "x=input()\n",
        "print(x)"
      ],
      "metadata": {
        "id": "XKIeIf2PqIOn"
      },
      "execution_count": null,
      "outputs": []
    },
    {
      "cell_type": "code",
      "source": [
        "x=int(input())\n",
        "y=int(input())\n",
        "print(x+y)\n",
        "\n"
      ],
      "metadata": {
        "id": "GiXY4qOBEeC_",
        "colab": {
          "base_uri": "https://localhost:8080/"
        },
        "outputId": "155ec194-ce60-4010-8265-b3b718baed9f"
      },
      "execution_count": null,
      "outputs": [
        {
          "output_type": "stream",
          "name": "stdout",
          "text": [
            "6\n",
            "100\n",
            "106\n"
          ]
        }
      ]
    },
    {
      "cell_type": "markdown",
      "source": [
        "**Looping**\n"
      ],
      "metadata": {
        "id": "isGZ_N-OFyyy"
      }
    },
    {
      "cell_type": "code",
      "source": [
        "for i in range (1,5):\n",
        "  print(i)"
      ],
      "metadata": {
        "id": "x1PAMf5SGFDR",
        "colab": {
          "base_uri": "https://localhost:8080/"
        },
        "outputId": "27db44c7-ba74-41ae-dcc4-74d5f25f6740"
      },
      "execution_count": null,
      "outputs": [
        {
          "output_type": "stream",
          "name": "stdout",
          "text": [
            "1\n",
            "2\n",
            "3\n",
            "4\n"
          ]
        }
      ]
    },
    {
      "cell_type": "code",
      "source": [
        "for i in range (1,5):\n",
        "  x=input()\n",
        "  print(x)  \n"
      ],
      "metadata": {
        "id": "vAZ--uc7qu86",
        "colab": {
          "base_uri": "https://localhost:8080/"
        },
        "outputId": "0b67b753-fdb3-4e89-b347-03744f43ea38"
      },
      "execution_count": null,
      "outputs": [
        {
          "output_type": "stream",
          "name": "stdout",
          "text": [
            "41\n",
            "41\n",
            "56\n",
            "56\n",
            "89\n",
            "89\n",
            "23\n",
            "23\n"
          ]
        }
      ]
    },
    {
      "cell_type": "markdown",
      "source": [],
      "metadata": {
        "id": "017W0xZmGSsW"
      }
    },
    {
      "cell_type": "code",
      "source": [
        "x = 0\n",
        "while (x <= 10):\n",
        "    print(x)\n",
        "    x=x+1\n",
        "    "
      ],
      "metadata": {
        "id": "lUwbslfAGiQt",
        "colab": {
          "base_uri": "https://localhost:8080/"
        },
        "outputId": "405c4a19-54b5-457c-f20b-f4d111d22dea"
      },
      "execution_count": null,
      "outputs": [
        {
          "output_type": "stream",
          "name": "stdout",
          "text": [
            "0\n",
            "1\n",
            "2\n",
            "3\n",
            "4\n",
            "5\n",
            "6\n",
            "7\n",
            "8\n",
            "9\n",
            "10\n"
          ]
        }
      ]
    },
    {
      "cell_type": "markdown",
      "source": [
        "**List**"
      ],
      "metadata": {
        "id": "Pc0F1s8eKpQd"
      }
    },
    {
      "cell_type": "code",
      "source": [
        "z = [1, 2, 3, 4, 5, 6]\n",
        "print(len(z))\n"
      ],
      "metadata": {
        "id": "m9L9HpO-sKVt",
        "colab": {
          "base_uri": "https://localhost:8080/"
        },
        "outputId": "f68c238e-c606-4a5c-c47d-4517a3f63d93"
      },
      "execution_count": null,
      "outputs": [
        {
          "output_type": "stream",
          "name": "stdout",
          "text": [
            "6\n"
          ]
        }
      ]
    },
    {
      "cell_type": "code",
      "source": [
        "print(z)"
      ],
      "metadata": {
        "id": "BxHQ3lzLc9Ay",
        "colab": {
          "base_uri": "https://localhost:8080/"
        },
        "outputId": "e2b08bec-78d2-4585-f005-b670735217fb"
      },
      "execution_count": null,
      "outputs": [
        {
          "output_type": "stream",
          "name": "stdout",
          "text": [
            "[1, 2, 3, 4, 5, 6]\n"
          ]
        }
      ]
    },
    {
      "cell_type": "code",
      "source": [
        "z.append(7)"
      ],
      "metadata": {
        "id": "WU050xoKcIJC"
      },
      "execution_count": null,
      "outputs": []
    },
    {
      "cell_type": "code",
      "source": [
        "print(z)"
      ],
      "metadata": {
        "id": "JcMPMo32cR5z",
        "colab": {
          "base_uri": "https://localhost:8080/"
        },
        "outputId": "a03ff43f-f9b1-4d7c-8ceb-3268326cc347"
      },
      "execution_count": null,
      "outputs": [
        {
          "output_type": "stream",
          "name": "stdout",
          "text": [
            "[1, 2, 3, 4, 5, 6, 7]\n"
          ]
        }
      ]
    },
    {
      "cell_type": "code",
      "source": [
        "z.extend([8,9])"
      ],
      "metadata": {
        "id": "DPLNQXtKdFni"
      },
      "execution_count": null,
      "outputs": []
    },
    {
      "cell_type": "code",
      "source": [
        "print(z)"
      ],
      "metadata": {
        "id": "EsE144TGelIa",
        "colab": {
          "base_uri": "https://localhost:8080/"
        },
        "outputId": "9d97ac6a-1fb3-44f4-d833-126084723c04"
      },
      "execution_count": null,
      "outputs": [
        {
          "output_type": "stream",
          "name": "stdout",
          "text": [
            "[1, 2, 3, 4, 5, 6, 7, 8, 9, 8, 9, 8, 9]\n"
          ]
        }
      ]
    },
    {
      "cell_type": "code",
      "source": [
        "s=[10,11,12,14]\n",
        "y=[1,2,3]\n"
      ],
      "metadata": {
        "id": "fhYL3NDqexgR"
      },
      "execution_count": null,
      "outputs": []
    },
    {
      "cell_type": "code",
      "source": [
        "matrix1=[y,s]\n",
        "matrix1"
      ],
      "metadata": {
        "id": "uIizmPYxe05h",
        "colab": {
          "base_uri": "https://localhost:8080/"
        },
        "outputId": "33ed9a39-ccfa-47af-e53c-c5bac096c436"
      },
      "execution_count": null,
      "outputs": [
        {
          "output_type": "execute_result",
          "data": {
            "text/plain": [
              "[[1, 2, 3], [10, 11, 12, 14]]"
            ]
          },
          "metadata": {},
          "execution_count": 13
        }
      ]
    },
    {
      "cell_type": "code",
      "source": [
        "z=[100,2,35,63]\n",
        "z.sort()\n",
        "print(z)"
      ],
      "metadata": {
        "id": "ye6yYKZbe9Jp",
        "colab": {
          "base_uri": "https://localhost:8080/"
        },
        "outputId": "aaf776d3-2abc-4ca8-88f7-ab46c60a3f83"
      },
      "execution_count": null,
      "outputs": [
        {
          "output_type": "stream",
          "name": "stdout",
          "text": [
            "[2, 35, 63, 100]\n"
          ]
        }
      ]
    },
    {
      "cell_type": "code",
      "source": [
        "z.sort(reverse=True)\n",
        "z"
      ],
      "metadata": {
        "id": "yZ03oacqfLDS",
        "colab": {
          "base_uri": "https://localhost:8080/"
        },
        "outputId": "993df32d-ae3e-44dc-a9ba-8460d2b5e727"
      },
      "execution_count": null,
      "outputs": [
        {
          "output_type": "execute_result",
          "data": {
            "text/plain": [
              "[100, 63, 35, 2]"
            ]
          },
          "metadata": {},
          "execution_count": 15
        }
      ]
    },
    {
      "cell_type": "code",
      "source": [
        "Numbers = [1, 2, 3, 4, 5, 6]\n",
        "l=len(Numbers)\n",
        "for i in range (1,len(Numbers)+1):\n",
        "#for i in Numbers:  \n",
        "  if (i % 2 == 0):\n",
        "    print(i,\"is even\")\n",
        "  else:\n",
        "    print(i,\"is odd\")\n",
        "             \n",
        "print (\"All done.\")"
      ],
      "metadata": {
        "id": "H334_O_YXHs8",
        "colab": {
          "base_uri": "https://localhost:8080/"
        },
        "outputId": "3c602732-12d1-450b-9f26-0a9e5aaf7d6d"
      },
      "execution_count": null,
      "outputs": [
        {
          "output_type": "stream",
          "name": "stdout",
          "text": [
            "1 is odd\n",
            "2 is even\n",
            "3 is odd\n",
            "4 is even\n",
            "5 is odd\n",
            "All done.\n"
          ]
        }
      ]
    },
    {
      "cell_type": "code",
      "source": [
        "Numbers=[1,2,3,4,5,6,7,8,9,10]\n",
        "for i in range (0, len(Numbers)-1): \n",
        "  if (Numbers[i]%2==0):\n",
        "    print(Numbers[i])\n"
      ],
      "metadata": {
        "id": "2dxj1OZwaoXw"
      },
      "execution_count": null,
      "outputs": []
    },
    {
      "cell_type": "markdown",
      "source": [
        "**Importing Modules**"
      ],
      "metadata": {
        "id": "T5SHxSr5O1Th"
      }
    },
    {
      "cell_type": "markdown",
      "source": [
        "NumPy stands for **Numerical Python**.It is a library consisting of multidimensional array objects and a collection of routines for processing those arrays."
      ],
      "metadata": {
        "id": "XWVNei8QmZRB"
      }
    },
    {
      "cell_type": "code",
      "execution_count": null,
      "metadata": {
        "id": "h-8kj3Ynsxxf",
        "colab": {
          "base_uri": "https://localhost:8080/"
        },
        "outputId": "9a504708-9d12-41e3-bdec-e4dd6e5a08ec"
      },
      "outputs": [
        {
          "output_type": "stream",
          "name": "stdout",
          "text": [
            "0.6336482349262754\n"
          ]
        }
      ],
      "source": [
        "import numpy as np\n",
        "A = np.random.rand()\n",
        "print (A)  \n"
      ]
    },
    {
      "cell_type": "code",
      "source": [
        "import numpy as np\n",
        "A = np.random.rand(10)\n",
        "print (A)"
      ],
      "metadata": {
        "id": "ggxWd-DFyimX",
        "colab": {
          "base_uri": "https://localhost:8080/"
        },
        "outputId": "440baf8a-96c4-4240-8260-a87db3fe21b4"
      },
      "execution_count": null,
      "outputs": [
        {
          "output_type": "stream",
          "name": "stdout",
          "text": [
            "[0.20048639 0.84009214 0.14174807 0.81601804 0.17879882 0.16146669\n",
            " 0.81706162 0.14668979 0.34272089 0.07705321]\n"
          ]
        }
      ]
    },
    {
      "cell_type": "code",
      "source": [
        "import numpy as np\n",
        "np.random.seed(10)\n",
        "sample = np.random.rand(2)\n",
        "print(sample)"
      ],
      "metadata": {
        "id": "AWcK7OeWy7Ca",
        "colab": {
          "base_uri": "https://localhost:8080/"
        },
        "outputId": "eee10fb7-23ef-41c7-9e6a-304e20f128db"
      },
      "execution_count": null,
      "outputs": [
        {
          "output_type": "stream",
          "name": "stdout",
          "text": [
            "[0.77132064 0.02075195]\n"
          ]
        }
      ]
    },
    {
      "cell_type": "code",
      "source": [
        "import numpy as np\n",
        "A = np.random.normal(25.0, 5.0, 10) \n",
        "# np.random.normal(loc--> mean of the distribution,scale--> SD of the distribution, Size--> No.ofarray elements)\n",
        "print (A)"
      ],
      "metadata": {
        "id": "q9CY5j_nzQ2H",
        "colab": {
          "base_uri": "https://localhost:8080/"
        },
        "outputId": "4d917afa-8889-45c7-86e4-950857181eff"
      },
      "execution_count": null,
      "outputs": [
        {
          "output_type": "stream",
          "name": "stdout",
          "text": [
            "[24.94987023 33.35404093 21.67810146 21.97222529 21.7450456  27.5628388\n",
            " 26.31194412 22.08634176 31.84210966 25.26684328]\n"
          ]
        }
      ]
    },
    {
      "cell_type": "markdown",
      "metadata": {
        "id": "BCvmVFrKoOAx"
      },
      "source": [
        "## Tuples"
      ]
    },
    {
      "cell_type": "code",
      "metadata": {
        "id": "YzGUygWkoOAx",
        "colab": {
          "base_uri": "https://localhost:8080/"
        },
        "outputId": "d2d1ef62-1462-43bc-b369-7cd8fdf35ec5"
      },
      "source": [
        "#Tuples are just immutable lists. Use () instead of []\n",
        "x = (1, 2, 3)\n",
        "len(x)"
      ],
      "execution_count": null,
      "outputs": [
        {
          "output_type": "execute_result",
          "data": {
            "text/plain": [
              "3"
            ]
          },
          "metadata": {},
          "execution_count": 16
        }
      ]
    },
    {
      "cell_type": "code",
      "source": [
        "y = (4, 5, 6)\n",
        "y[1]"
      ],
      "metadata": {
        "id": "BdCfoEa4Qait"
      },
      "execution_count": null,
      "outputs": []
    },
    {
      "cell_type": "code",
      "source": [
        "listOfTuples = [x, y]\n",
        "listOfTuples"
      ],
      "metadata": {
        "id": "NRNPNIhWQauj"
      },
      "execution_count": null,
      "outputs": []
    },
    {
      "cell_type": "code",
      "source": [
        "(age, income) = \"32,120\".split(',')\n",
        "print(age)\n",
        "print(income)"
      ],
      "metadata": {
        "id": "ht0azSvlTZik",
        "colab": {
          "base_uri": "https://localhost:8080/"
        },
        "outputId": "ae975c14-40ac-4cc0-d1cd-736701c93472"
      },
      "execution_count": null,
      "outputs": [
        {
          "output_type": "stream",
          "name": "stdout",
          "text": [
            "32\n",
            "120\n"
          ]
        }
      ]
    },
    {
      "cell_type": "markdown",
      "source": [
        "**Dictionaries**"
      ],
      "metadata": {
        "id": "ZCycmi-uTTRy"
      }
    },
    {
      "cell_type": "code",
      "source": [
        "\n",
        "x = {}\n",
        "x[\"Enterprise\"] = \"Kirk\"\n",
        "x[\"Enterprise D\"] = \"Picard\"\n",
        "x[\"Deep Space Nine\"] = \"Sisko\"\n",
        "x[\"Voyager\"] = \"Janeway\"\n",
        "\n",
        "print(x)"
      ],
      "metadata": {
        "id": "IXPjcNZ6TeQC",
        "colab": {
          "base_uri": "https://localhost:8080/"
        },
        "outputId": "046fbb6f-a464-4f4c-a9f0-4d4066f95698"
      },
      "execution_count": null,
      "outputs": [
        {
          "output_type": "stream",
          "name": "stdout",
          "text": [
            "{'Enterprise': 'Kirk', 'Enterprise D': 'Picard', 'Deep Space Nine': 'Sisko', 'Voyager': 'Janeway'}\n"
          ]
        }
      ]
    },
    {
      "cell_type": "code",
      "source": [
        "print(captains[\"Voyager\"])"
      ],
      "metadata": {
        "id": "Op25GNM6T5jk",
        "colab": {
          "base_uri": "https://localhost:8080/"
        },
        "outputId": "225ede7e-9c21-4a10-e852-441575038fc0"
      },
      "execution_count": null,
      "outputs": [
        {
          "output_type": "stream",
          "name": "stdout",
          "text": [
            "Janeway\n"
          ]
        }
      ]
    },
    {
      "cell_type": "code",
      "source": [
        "print(captains[\"Enterprise\"])"
      ],
      "metadata": {
        "id": "6qUmbL5gT84W",
        "colab": {
          "base_uri": "https://localhost:8080/"
        },
        "outputId": "ed5a75a6-532e-42b0-b60d-964302e2a319"
      },
      "execution_count": null,
      "outputs": [
        {
          "output_type": "stream",
          "name": "stdout",
          "text": [
            "Kirk\n"
          ]
        }
      ]
    },
    {
      "cell_type": "code",
      "source": [
        "print(captains[\"abc\"])"
      ],
      "metadata": {
        "colab": {
          "base_uri": "https://localhost:8080/",
          "height": 165
        },
        "id": "tqNlMTXaEVJW",
        "outputId": "9544de14-6fee-4321-c53c-cdbc27e47b78"
      },
      "execution_count": null,
      "outputs": [
        {
          "output_type": "error",
          "ename": "KeyError",
          "evalue": "ignored",
          "traceback": [
            "\u001b[0;31m---------------------------------------------------------------------------\u001b[0m",
            "\u001b[0;31mKeyError\u001b[0m                                  Traceback (most recent call last)",
            "\u001b[0;32m<ipython-input-7-d41f746e38bb>\u001b[0m in \u001b[0;36m<module>\u001b[0;34m()\u001b[0m\n\u001b[0;32m----> 1\u001b[0;31m \u001b[0mprint\u001b[0m\u001b[0;34m(\u001b[0m\u001b[0mcaptains\u001b[0m\u001b[0;34m[\u001b[0m\u001b[0;34m\"abc\"\u001b[0m\u001b[0;34m]\u001b[0m\u001b[0;34m)\u001b[0m\u001b[0;34m\u001b[0m\u001b[0;34m\u001b[0m\u001b[0m\n\u001b[0m",
            "\u001b[0;31mKeyError\u001b[0m: 'abc'"
          ]
        }
      ]
    },
    {
      "cell_type": "code",
      "source": [
        "print(captains.get(\"Enterprise\"))"
      ],
      "metadata": {
        "id": "AIgowOdwix1p",
        "colab": {
          "base_uri": "https://localhost:8080/"
        },
        "outputId": "15548868-0069-4a11-a702-7258d4f432d8"
      },
      "execution_count": null,
      "outputs": [
        {
          "output_type": "stream",
          "name": "stdout",
          "text": [
            "Kirk\n"
          ]
        }
      ]
    },
    {
      "cell_type": "code",
      "source": [
        "print(captains.get(\"NX-01\"))"
      ],
      "metadata": {
        "id": "ui1L-DdpUC7D",
        "colab": {
          "base_uri": "https://localhost:8080/"
        },
        "outputId": "2301a585-a695-403f-c70e-a987d7f7f824"
      },
      "execution_count": null,
      "outputs": [
        {
          "output_type": "stream",
          "name": "stdout",
          "text": [
            "None\n"
          ]
        }
      ]
    },
    {
      "cell_type": "markdown",
      "source": [
        "\n",
        "**Functions**"
      ],
      "metadata": {
        "id": "cb-34-acUOY1"
      }
    },
    {
      "cell_type": "code",
      "source": [
        "def square(x): ##function header\n",
        "   y=x*x\n",
        "   print(y)   #header body\n",
        "\n",
        "square(100) ##function call"
      ],
      "metadata": {
        "id": "Y4hnYn4tUSP2",
        "colab": {
          "base_uri": "https://localhost:8080/"
        },
        "outputId": "a46176e2-28ba-438f-fcb3-af1dd297a0f5"
      },
      "execution_count": null,
      "outputs": [
        {
          "output_type": "stream",
          "name": "stdout",
          "text": [
            "10000\n"
          ]
        }
      ]
    },
    {
      "cell_type": "code",
      "source": [
        "def squareIt(x):\n",
        "   y=x*x\n",
        "   print(y)\n",
        "\n",
        "squareIt(2)\n",
        "squareIt(3)\n",
        "squareIt(4)\n",
        "squareIt(100)\n"
      ],
      "metadata": {
        "id": "oDuCg91pUSTM",
        "colab": {
          "base_uri": "https://localhost:8080/"
        },
        "outputId": "b0d3b2fc-7b26-47ec-be4b-e3aea9d7a2a4"
      },
      "execution_count": null,
      "outputs": [
        {
          "output_type": "stream",
          "name": "stdout",
          "text": [
            "4\n",
            "9\n",
            "16\n",
            "10000\n"
          ]
        }
      ]
    },
    {
      "cell_type": "code",
      "source": [
        "def squareIt(x):\n",
        "   y=x*x\n",
        "   return y\n",
        "\n",
        "x1=squareIt(2)\n",
        "x2=squareIt(3)\n",
        "print(x1+x2)"
      ],
      "metadata": {
        "id": "yiyu6hpBUSWw",
        "colab": {
          "base_uri": "https://localhost:8080/"
        },
        "outputId": "d12ec47c-8d10-4589-e2d0-77e7372c959d"
      },
      "execution_count": null,
      "outputs": [
        {
          "output_type": "stream",
          "name": "stdout",
          "text": [
            "13\n"
          ]
        }
      ]
    },
    {
      "cell_type": "markdown",
      "source": [
        "* *30.11.22* *"
      ],
      "metadata": {
        "id": "1atvhhRydkyQ"
      }
    },
    {
      "cell_type": "markdown",
      "source": [
        "**Pandas** is an open source Python package that is most widely used for data science/data analysis and machine learning tasks. It is built on top of Numpy."
      ],
      "metadata": {
        "id": "eNglVxOPmyw8"
      }
    },
    {
      "cell_type": "code",
      "source": [
        "import numpy as np\n",
        "import pandas as pd\n",
        "import io\n",
        "d = pd.read_csv('/content/Data1(1).csv')\n",
        "#d.head()\n",
        "#d.head(3)\n",
        "#d.head(10)\n",
        "#d.tail()\n",
        "#d.shape\n",
        "#d.all\n",
        "#d.size\n",
        "#len(d)\n",
        "#d.columns\n",
        "#d.Attr_1\n",
        "#d.Name[5]\n",
        "#d.['Hired'][5]\n",
        "#d[['Name','Attr_2']][0:5]\n",
        "d.sort_values"
      ],
      "metadata": {
        "id": "Jx1wum6-gysG",
        "colab": {
          "base_uri": "https://localhost:8080/"
        },
        "outputId": "2a1ba27f-9629-4b45-961d-9f97f9d59ca7"
      },
      "execution_count": 3,
      "outputs": [
        {
          "output_type": "execute_result",
          "data": {
            "text/plain": [
              "<bound method DataFrame.sort_values of                   Name  Attr_1   Attr_2  Attr_3  Attr_4  Attr_5\n",
              "0   Muhammed MacIntyre       3  -213.25   38.94   35.00    0.80\n",
              "1         Barry French     293   457.81  208.16   68.02    0.58\n",
              "2         Barry French     293    46.71    8.69    2.99    0.39\n",
              "3        Clay Rozendal     483  1198.97  195.99    3.99    0.58\n",
              "4       Carlos Soltero     515    30.94   21.78    5.94    0.50\n",
              "..                 ...     ...      ...     ...     ...     ...\n",
              "95       Doug Bickford   10535   -44.14   33.98   19.99    0.55\n",
              "96       Doug Bickford   10535    -0.79    1.76    0.70    0.56\n",
              "97        Jamie Kunitz   10789    76.42   19.84    4.10    0.44\n",
              "98     Anthony Johnson   10791    93.36   19.98    5.77    0.38\n",
              "99        Ralph Knight   10945     4.22   95.99    8.99    0.57\n",
              "\n",
              "[100 rows x 6 columns]>"
            ]
          },
          "metadata": {},
          "execution_count": 3
        }
      ]
    },
    {
      "cell_type": "code",
      "source": [
        "d.head(10)"
      ],
      "metadata": {
        "id": "FbgcmMzLhzo2",
        "colab": {
          "base_uri": "https://localhost:8080/",
          "height": 363
        },
        "outputId": "4e09f906-f841-4037-d641-615570bfde59"
      },
      "execution_count": null,
      "outputs": [
        {
          "output_type": "execute_result",
          "data": {
            "text/plain": [
              "                 Name  Attr_1   Attr_2  Attr_3  Attr_4  Attr_5\n",
              "0  Muhammed MacIntyre       3  -213.25   38.94   35.00    0.80\n",
              "1        Barry French     293   457.81  208.16   68.02    0.58\n",
              "2        Barry French     293    46.71    8.69    2.99    0.39\n",
              "3       Clay Rozendal     483  1198.97  195.99    3.99    0.58\n",
              "4      Carlos Soltero     515    30.94   21.78    5.94    0.50\n",
              "5      Carlos Soltero     515     4.43    6.64    4.95    0.37\n",
              "6        Carl Jackson     613   -54.04    7.30    7.72    0.38\n",
              "7        Carl Jackson     613   127.70   42.76    6.22     NaN\n",
              "8      Monica Federle     643  -695.26  138.14   35.00     NaN\n",
              "9     Dorothy Badders     678  -226.36    4.98    8.33    0.38"
            ],
            "text/html": [
              "\n",
              "  <div id=\"df-05ba3875-d5af-4bfa-b381-d028ad17d9a8\">\n",
              "    <div class=\"colab-df-container\">\n",
              "      <div>\n",
              "<style scoped>\n",
              "    .dataframe tbody tr th:only-of-type {\n",
              "        vertical-align: middle;\n",
              "    }\n",
              "\n",
              "    .dataframe tbody tr th {\n",
              "        vertical-align: top;\n",
              "    }\n",
              "\n",
              "    .dataframe thead th {\n",
              "        text-align: right;\n",
              "    }\n",
              "</style>\n",
              "<table border=\"1\" class=\"dataframe\">\n",
              "  <thead>\n",
              "    <tr style=\"text-align: right;\">\n",
              "      <th></th>\n",
              "      <th>Name</th>\n",
              "      <th>Attr_1</th>\n",
              "      <th>Attr_2</th>\n",
              "      <th>Attr_3</th>\n",
              "      <th>Attr_4</th>\n",
              "      <th>Attr_5</th>\n",
              "    </tr>\n",
              "  </thead>\n",
              "  <tbody>\n",
              "    <tr>\n",
              "      <th>0</th>\n",
              "      <td>Muhammed MacIntyre</td>\n",
              "      <td>3</td>\n",
              "      <td>-213.25</td>\n",
              "      <td>38.94</td>\n",
              "      <td>35.00</td>\n",
              "      <td>0.80</td>\n",
              "    </tr>\n",
              "    <tr>\n",
              "      <th>1</th>\n",
              "      <td>Barry French</td>\n",
              "      <td>293</td>\n",
              "      <td>457.81</td>\n",
              "      <td>208.16</td>\n",
              "      <td>68.02</td>\n",
              "      <td>0.58</td>\n",
              "    </tr>\n",
              "    <tr>\n",
              "      <th>2</th>\n",
              "      <td>Barry French</td>\n",
              "      <td>293</td>\n",
              "      <td>46.71</td>\n",
              "      <td>8.69</td>\n",
              "      <td>2.99</td>\n",
              "      <td>0.39</td>\n",
              "    </tr>\n",
              "    <tr>\n",
              "      <th>3</th>\n",
              "      <td>Clay Rozendal</td>\n",
              "      <td>483</td>\n",
              "      <td>1198.97</td>\n",
              "      <td>195.99</td>\n",
              "      <td>3.99</td>\n",
              "      <td>0.58</td>\n",
              "    </tr>\n",
              "    <tr>\n",
              "      <th>4</th>\n",
              "      <td>Carlos Soltero</td>\n",
              "      <td>515</td>\n",
              "      <td>30.94</td>\n",
              "      <td>21.78</td>\n",
              "      <td>5.94</td>\n",
              "      <td>0.50</td>\n",
              "    </tr>\n",
              "    <tr>\n",
              "      <th>5</th>\n",
              "      <td>Carlos Soltero</td>\n",
              "      <td>515</td>\n",
              "      <td>4.43</td>\n",
              "      <td>6.64</td>\n",
              "      <td>4.95</td>\n",
              "      <td>0.37</td>\n",
              "    </tr>\n",
              "    <tr>\n",
              "      <th>6</th>\n",
              "      <td>Carl Jackson</td>\n",
              "      <td>613</td>\n",
              "      <td>-54.04</td>\n",
              "      <td>7.30</td>\n",
              "      <td>7.72</td>\n",
              "      <td>0.38</td>\n",
              "    </tr>\n",
              "    <tr>\n",
              "      <th>7</th>\n",
              "      <td>Carl Jackson</td>\n",
              "      <td>613</td>\n",
              "      <td>127.70</td>\n",
              "      <td>42.76</td>\n",
              "      <td>6.22</td>\n",
              "      <td>NaN</td>\n",
              "    </tr>\n",
              "    <tr>\n",
              "      <th>8</th>\n",
              "      <td>Monica Federle</td>\n",
              "      <td>643</td>\n",
              "      <td>-695.26</td>\n",
              "      <td>138.14</td>\n",
              "      <td>35.00</td>\n",
              "      <td>NaN</td>\n",
              "    </tr>\n",
              "    <tr>\n",
              "      <th>9</th>\n",
              "      <td>Dorothy Badders</td>\n",
              "      <td>678</td>\n",
              "      <td>-226.36</td>\n",
              "      <td>4.98</td>\n",
              "      <td>8.33</td>\n",
              "      <td>0.38</td>\n",
              "    </tr>\n",
              "  </tbody>\n",
              "</table>\n",
              "</div>\n",
              "      <button class=\"colab-df-convert\" onclick=\"convertToInteractive('df-05ba3875-d5af-4bfa-b381-d028ad17d9a8')\"\n",
              "              title=\"Convert this dataframe to an interactive table.\"\n",
              "              style=\"display:none;\">\n",
              "        \n",
              "  <svg xmlns=\"http://www.w3.org/2000/svg\" height=\"24px\"viewBox=\"0 0 24 24\"\n",
              "       width=\"24px\">\n",
              "    <path d=\"M0 0h24v24H0V0z\" fill=\"none\"/>\n",
              "    <path d=\"M18.56 5.44l.94 2.06.94-2.06 2.06-.94-2.06-.94-.94-2.06-.94 2.06-2.06.94zm-11 1L8.5 8.5l.94-2.06 2.06-.94-2.06-.94L8.5 2.5l-.94 2.06-2.06.94zm10 10l.94 2.06.94-2.06 2.06-.94-2.06-.94-.94-2.06-.94 2.06-2.06.94z\"/><path d=\"M17.41 7.96l-1.37-1.37c-.4-.4-.92-.59-1.43-.59-.52 0-1.04.2-1.43.59L10.3 9.45l-7.72 7.72c-.78.78-.78 2.05 0 2.83L4 21.41c.39.39.9.59 1.41.59.51 0 1.02-.2 1.41-.59l7.78-7.78 2.81-2.81c.8-.78.8-2.07 0-2.86zM5.41 20L4 18.59l7.72-7.72 1.47 1.35L5.41 20z\"/>\n",
              "  </svg>\n",
              "      </button>\n",
              "      \n",
              "  <style>\n",
              "    .colab-df-container {\n",
              "      display:flex;\n",
              "      flex-wrap:wrap;\n",
              "      gap: 12px;\n",
              "    }\n",
              "\n",
              "    .colab-df-convert {\n",
              "      background-color: #E8F0FE;\n",
              "      border: none;\n",
              "      border-radius: 50%;\n",
              "      cursor: pointer;\n",
              "      display: none;\n",
              "      fill: #1967D2;\n",
              "      height: 32px;\n",
              "      padding: 0 0 0 0;\n",
              "      width: 32px;\n",
              "    }\n",
              "\n",
              "    .colab-df-convert:hover {\n",
              "      background-color: #E2EBFA;\n",
              "      box-shadow: 0px 1px 2px rgba(60, 64, 67, 0.3), 0px 1px 3px 1px rgba(60, 64, 67, 0.15);\n",
              "      fill: #174EA6;\n",
              "    }\n",
              "\n",
              "    [theme=dark] .colab-df-convert {\n",
              "      background-color: #3B4455;\n",
              "      fill: #D2E3FC;\n",
              "    }\n",
              "\n",
              "    [theme=dark] .colab-df-convert:hover {\n",
              "      background-color: #434B5C;\n",
              "      box-shadow: 0px 1px 3px 1px rgba(0, 0, 0, 0.15);\n",
              "      filter: drop-shadow(0px 1px 2px rgba(0, 0, 0, 0.3));\n",
              "      fill: #FFFFFF;\n",
              "    }\n",
              "  </style>\n",
              "\n",
              "      <script>\n",
              "        const buttonEl =\n",
              "          document.querySelector('#df-05ba3875-d5af-4bfa-b381-d028ad17d9a8 button.colab-df-convert');\n",
              "        buttonEl.style.display =\n",
              "          google.colab.kernel.accessAllowed ? 'block' : 'none';\n",
              "\n",
              "        async function convertToInteractive(key) {\n",
              "          const element = document.querySelector('#df-05ba3875-d5af-4bfa-b381-d028ad17d9a8');\n",
              "          const dataTable =\n",
              "            await google.colab.kernel.invokeFunction('convertToInteractive',\n",
              "                                                     [key], {});\n",
              "          if (!dataTable) return;\n",
              "\n",
              "          const docLinkHtml = 'Like what you see? Visit the ' +\n",
              "            '<a target=\"_blank\" href=https://colab.research.google.com/notebooks/data_table.ipynb>data table notebook</a>'\n",
              "            + ' to learn more about interactive tables.';\n",
              "          element.innerHTML = '';\n",
              "          dataTable['output_type'] = 'display_data';\n",
              "          await google.colab.output.renderOutput(dataTable, element);\n",
              "          const docLink = document.createElement('div');\n",
              "          docLink.innerHTML = docLinkHtml;\n",
              "          element.appendChild(docLink);\n",
              "        }\n",
              "      </script>\n",
              "    </div>\n",
              "  </div>\n",
              "  "
            ]
          },
          "metadata": {},
          "execution_count": 12
        }
      ]
    },
    {
      "cell_type": "code",
      "source": [
        "d.head(3)"
      ],
      "metadata": {
        "id": "luD9M8zuiAzc"
      },
      "execution_count": null,
      "outputs": []
    },
    {
      "cell_type": "code",
      "source": [
        "d.tail(4)"
      ],
      "metadata": {
        "id": "ZAV1tMEgZmU3"
      },
      "execution_count": null,
      "outputs": []
    },
    {
      "cell_type": "code",
      "source": [
        "d.shape"
      ],
      "metadata": {
        "id": "QJbWR-s7aDg7",
        "colab": {
          "base_uri": "https://localhost:8080/"
        },
        "outputId": "9d0102c9-c4b7-48c1-a303-03f3ec3a1ac6"
      },
      "execution_count": null,
      "outputs": [
        {
          "output_type": "execute_result",
          "data": {
            "text/plain": [
              "(13, 7)"
            ]
          },
          "metadata": {},
          "execution_count": 24
        }
      ]
    },
    {
      "cell_type": "code",
      "source": [
        "d.size"
      ],
      "metadata": {
        "id": "tI7Wp4AGaLjy",
        "colab": {
          "base_uri": "https://localhost:8080/"
        },
        "outputId": "fce6e74a-2b78-4726-fa61-d01e8784b335"
      },
      "execution_count": null,
      "outputs": [
        {
          "output_type": "execute_result",
          "data": {
            "text/plain": [
              "91"
            ]
          },
          "metadata": {},
          "execution_count": 25
        }
      ]
    },
    {
      "cell_type": "code",
      "source": [
        "len(df)"
      ],
      "metadata": {
        "id": "hzbkt489aQrS",
        "colab": {
          "base_uri": "https://localhost:8080/"
        },
        "outputId": "907c405a-9da9-45d8-eb72-6f41778e9825"
      },
      "execution_count": null,
      "outputs": [
        {
          "output_type": "execute_result",
          "data": {
            "text/plain": [
              "13"
            ]
          },
          "metadata": {},
          "execution_count": 26
        }
      ]
    },
    {
      "cell_type": "code",
      "source": [
        "d.columns"
      ],
      "metadata": {
        "id": "b2ZF6QKWaRCQ",
        "colab": {
          "base_uri": "https://localhost:8080/"
        },
        "outputId": "d3f151d6-de3f-42fe-c4ee-d591196887d4"
      },
      "execution_count": null,
      "outputs": [
        {
          "output_type": "execute_result",
          "data": {
            "text/plain": [
              "Index(['Years Experience', 'Employed?', 'Previous employers',\n",
              "       'Level of Education', 'Top-tier school', 'Interned', 'Hired'],\n",
              "      dtype='object')"
            ]
          },
          "metadata": {},
          "execution_count": 27
        }
      ]
    },
    {
      "cell_type": "code",
      "source": [
        "d['Name']"
      ],
      "metadata": {
        "id": "SgqirrWUaaR5",
        "colab": {
          "base_uri": "https://localhost:8080/"
        },
        "outputId": "fb2cd9b7-d130-4d34-da7a-5de848135d42"
      },
      "execution_count": 4,
      "outputs": [
        {
          "output_type": "execute_result",
          "data": {
            "text/plain": [
              "0     Muhammed MacIntyre\n",
              "1           Barry French\n",
              "2           Barry French\n",
              "3          Clay Rozendal\n",
              "4         Carlos Soltero\n",
              "             ...        \n",
              "95         Doug Bickford\n",
              "96         Doug Bickford\n",
              "97          Jamie Kunitz\n",
              "98       Anthony Johnson\n",
              "99          Ralph Knight\n",
              "Name: Name, Length: 100, dtype: object"
            ]
          },
          "metadata": {},
          "execution_count": 4
        }
      ]
    },
    {
      "cell_type": "code",
      "source": [
        "d['Name'][:-10]"
      ],
      "metadata": {
        "id": "cL8wTlXsadHJ",
        "colab": {
          "base_uri": "https://localhost:8080/"
        },
        "outputId": "77b99634-3169-42a8-89e6-401f8fd1a325"
      },
      "execution_count": null,
      "outputs": [
        {
          "output_type": "execute_result",
          "data": {
            "text/plain": [
              "0    Y\n",
              "1    Y\n",
              "2    N\n",
              "Name: Hired, dtype: object"
            ]
          },
          "metadata": {},
          "execution_count": 37
        }
      ]
    },
    {
      "cell_type": "code",
      "source": [
        "d['Name'][5]"
      ],
      "metadata": {
        "id": "EgAXWI_Yahpi",
        "colab": {
          "base_uri": "https://localhost:8080/",
          "height": 35
        },
        "outputId": "ad7897ab-8a9c-41db-90ca-217fb346c417"
      },
      "execution_count": null,
      "outputs": [
        {
          "output_type": "execute_result",
          "data": {
            "application/vnd.google.colaboratory.intrinsic+json": {
              "type": "string"
            },
            "text/plain": [
              "'Y'"
            ]
          },
          "metadata": {},
          "execution_count": 33
        }
      ]
    },
    {
      "cell_type": "code",
      "source": [
        "d[['Attr_1', 'Name']]"
      ],
      "metadata": {
        "id": "yC1FmDfgapf6",
        "colab": {
          "base_uri": "https://localhost:8080/",
          "height": 423
        },
        "outputId": "80e87174-6a15-421a-b3d3-5f1fb2dff766"
      },
      "execution_count": 6,
      "outputs": [
        {
          "output_type": "execute_result",
          "data": {
            "text/plain": [
              "    Attr_1                Name\n",
              "0        3  Muhammed MacIntyre\n",
              "1      293        Barry French\n",
              "2      293        Barry French\n",
              "3      483       Clay Rozendal\n",
              "4      515      Carlos Soltero\n",
              "..     ...                 ...\n",
              "95   10535       Doug Bickford\n",
              "96   10535       Doug Bickford\n",
              "97   10789        Jamie Kunitz\n",
              "98   10791     Anthony Johnson\n",
              "99   10945        Ralph Knight\n",
              "\n",
              "[100 rows x 2 columns]"
            ],
            "text/html": [
              "\n",
              "  <div id=\"df-caed5fca-a67f-415c-8b6c-815105e3c4ef\">\n",
              "    <div class=\"colab-df-container\">\n",
              "      <div>\n",
              "<style scoped>\n",
              "    .dataframe tbody tr th:only-of-type {\n",
              "        vertical-align: middle;\n",
              "    }\n",
              "\n",
              "    .dataframe tbody tr th {\n",
              "        vertical-align: top;\n",
              "    }\n",
              "\n",
              "    .dataframe thead th {\n",
              "        text-align: right;\n",
              "    }\n",
              "</style>\n",
              "<table border=\"1\" class=\"dataframe\">\n",
              "  <thead>\n",
              "    <tr style=\"text-align: right;\">\n",
              "      <th></th>\n",
              "      <th>Attr_1</th>\n",
              "      <th>Name</th>\n",
              "    </tr>\n",
              "  </thead>\n",
              "  <tbody>\n",
              "    <tr>\n",
              "      <th>0</th>\n",
              "      <td>3</td>\n",
              "      <td>Muhammed MacIntyre</td>\n",
              "    </tr>\n",
              "    <tr>\n",
              "      <th>1</th>\n",
              "      <td>293</td>\n",
              "      <td>Barry French</td>\n",
              "    </tr>\n",
              "    <tr>\n",
              "      <th>2</th>\n",
              "      <td>293</td>\n",
              "      <td>Barry French</td>\n",
              "    </tr>\n",
              "    <tr>\n",
              "      <th>3</th>\n",
              "      <td>483</td>\n",
              "      <td>Clay Rozendal</td>\n",
              "    </tr>\n",
              "    <tr>\n",
              "      <th>4</th>\n",
              "      <td>515</td>\n",
              "      <td>Carlos Soltero</td>\n",
              "    </tr>\n",
              "    <tr>\n",
              "      <th>...</th>\n",
              "      <td>...</td>\n",
              "      <td>...</td>\n",
              "    </tr>\n",
              "    <tr>\n",
              "      <th>95</th>\n",
              "      <td>10535</td>\n",
              "      <td>Doug Bickford</td>\n",
              "    </tr>\n",
              "    <tr>\n",
              "      <th>96</th>\n",
              "      <td>10535</td>\n",
              "      <td>Doug Bickford</td>\n",
              "    </tr>\n",
              "    <tr>\n",
              "      <th>97</th>\n",
              "      <td>10789</td>\n",
              "      <td>Jamie Kunitz</td>\n",
              "    </tr>\n",
              "    <tr>\n",
              "      <th>98</th>\n",
              "      <td>10791</td>\n",
              "      <td>Anthony Johnson</td>\n",
              "    </tr>\n",
              "    <tr>\n",
              "      <th>99</th>\n",
              "      <td>10945</td>\n",
              "      <td>Ralph Knight</td>\n",
              "    </tr>\n",
              "  </tbody>\n",
              "</table>\n",
              "<p>100 rows × 2 columns</p>\n",
              "</div>\n",
              "      <button class=\"colab-df-convert\" onclick=\"convertToInteractive('df-caed5fca-a67f-415c-8b6c-815105e3c4ef')\"\n",
              "              title=\"Convert this dataframe to an interactive table.\"\n",
              "              style=\"display:none;\">\n",
              "        \n",
              "  <svg xmlns=\"http://www.w3.org/2000/svg\" height=\"24px\"viewBox=\"0 0 24 24\"\n",
              "       width=\"24px\">\n",
              "    <path d=\"M0 0h24v24H0V0z\" fill=\"none\"/>\n",
              "    <path d=\"M18.56 5.44l.94 2.06.94-2.06 2.06-.94-2.06-.94-.94-2.06-.94 2.06-2.06.94zm-11 1L8.5 8.5l.94-2.06 2.06-.94-2.06-.94L8.5 2.5l-.94 2.06-2.06.94zm10 10l.94 2.06.94-2.06 2.06-.94-2.06-.94-.94-2.06-.94 2.06-2.06.94z\"/><path d=\"M17.41 7.96l-1.37-1.37c-.4-.4-.92-.59-1.43-.59-.52 0-1.04.2-1.43.59L10.3 9.45l-7.72 7.72c-.78.78-.78 2.05 0 2.83L4 21.41c.39.39.9.59 1.41.59.51 0 1.02-.2 1.41-.59l7.78-7.78 2.81-2.81c.8-.78.8-2.07 0-2.86zM5.41 20L4 18.59l7.72-7.72 1.47 1.35L5.41 20z\"/>\n",
              "  </svg>\n",
              "      </button>\n",
              "      \n",
              "  <style>\n",
              "    .colab-df-container {\n",
              "      display:flex;\n",
              "      flex-wrap:wrap;\n",
              "      gap: 12px;\n",
              "    }\n",
              "\n",
              "    .colab-df-convert {\n",
              "      background-color: #E8F0FE;\n",
              "      border: none;\n",
              "      border-radius: 50%;\n",
              "      cursor: pointer;\n",
              "      display: none;\n",
              "      fill: #1967D2;\n",
              "      height: 32px;\n",
              "      padding: 0 0 0 0;\n",
              "      width: 32px;\n",
              "    }\n",
              "\n",
              "    .colab-df-convert:hover {\n",
              "      background-color: #E2EBFA;\n",
              "      box-shadow: 0px 1px 2px rgba(60, 64, 67, 0.3), 0px 1px 3px 1px rgba(60, 64, 67, 0.15);\n",
              "      fill: #174EA6;\n",
              "    }\n",
              "\n",
              "    [theme=dark] .colab-df-convert {\n",
              "      background-color: #3B4455;\n",
              "      fill: #D2E3FC;\n",
              "    }\n",
              "\n",
              "    [theme=dark] .colab-df-convert:hover {\n",
              "      background-color: #434B5C;\n",
              "      box-shadow: 0px 1px 3px 1px rgba(0, 0, 0, 0.15);\n",
              "      filter: drop-shadow(0px 1px 2px rgba(0, 0, 0, 0.3));\n",
              "      fill: #FFFFFF;\n",
              "    }\n",
              "  </style>\n",
              "\n",
              "      <script>\n",
              "        const buttonEl =\n",
              "          document.querySelector('#df-caed5fca-a67f-415c-8b6c-815105e3c4ef button.colab-df-convert');\n",
              "        buttonEl.style.display =\n",
              "          google.colab.kernel.accessAllowed ? 'block' : 'none';\n",
              "\n",
              "        async function convertToInteractive(key) {\n",
              "          const element = document.querySelector('#df-caed5fca-a67f-415c-8b6c-815105e3c4ef');\n",
              "          const dataTable =\n",
              "            await google.colab.kernel.invokeFunction('convertToInteractive',\n",
              "                                                     [key], {});\n",
              "          if (!dataTable) return;\n",
              "\n",
              "          const docLinkHtml = 'Like what you see? Visit the ' +\n",
              "            '<a target=\"_blank\" href=https://colab.research.google.com/notebooks/data_table.ipynb>data table notebook</a>'\n",
              "            + ' to learn more about interactive tables.';\n",
              "          element.innerHTML = '';\n",
              "          dataTable['output_type'] = 'display_data';\n",
              "          await google.colab.output.renderOutput(dataTable, element);\n",
              "          const docLink = document.createElement('div');\n",
              "          docLink.innerHTML = docLinkHtml;\n",
              "          element.appendChild(docLink);\n",
              "        }\n",
              "      </script>\n",
              "    </div>\n",
              "  </div>\n",
              "  "
            ]
          },
          "metadata": {},
          "execution_count": 6
        }
      ]
    },
    {
      "cell_type": "code",
      "source": [
        "d[['Attr_1', 'Name']][0:5]"
      ],
      "metadata": {
        "id": "WuCEEnUzaukK",
        "colab": {
          "base_uri": "https://localhost:8080/",
          "height": 206
        },
        "outputId": "74082621-968a-4b03-853d-20a4597731ea"
      },
      "execution_count": null,
      "outputs": [
        {
          "output_type": "execute_result",
          "data": {
            "text/html": [
              "\n",
              "  <div id=\"df-49a33d2c-f6e5-4473-9ba3-d12d3fb35aaf\">\n",
              "    <div class=\"colab-df-container\">\n",
              "      <div>\n",
              "<style scoped>\n",
              "    .dataframe tbody tr th:only-of-type {\n",
              "        vertical-align: middle;\n",
              "    }\n",
              "\n",
              "    .dataframe tbody tr th {\n",
              "        vertical-align: top;\n",
              "    }\n",
              "\n",
              "    .dataframe thead th {\n",
              "        text-align: right;\n",
              "    }\n",
              "</style>\n",
              "<table border=\"1\" class=\"dataframe\">\n",
              "  <thead>\n",
              "    <tr style=\"text-align: right;\">\n",
              "      <th></th>\n",
              "      <th>Years Experience</th>\n",
              "      <th>Hired</th>\n",
              "    </tr>\n",
              "  </thead>\n",
              "  <tbody>\n",
              "    <tr>\n",
              "      <th>0</th>\n",
              "      <td>10</td>\n",
              "      <td>Y</td>\n",
              "    </tr>\n",
              "    <tr>\n",
              "      <th>1</th>\n",
              "      <td>0</td>\n",
              "      <td>Y</td>\n",
              "    </tr>\n",
              "    <tr>\n",
              "      <th>2</th>\n",
              "      <td>7</td>\n",
              "      <td>N</td>\n",
              "    </tr>\n",
              "    <tr>\n",
              "      <th>3</th>\n",
              "      <td>2</td>\n",
              "      <td>Y</td>\n",
              "    </tr>\n",
              "    <tr>\n",
              "      <th>4</th>\n",
              "      <td>20</td>\n",
              "      <td>N</td>\n",
              "    </tr>\n",
              "  </tbody>\n",
              "</table>\n",
              "</div>\n",
              "      <button class=\"colab-df-convert\" onclick=\"convertToInteractive('df-49a33d2c-f6e5-4473-9ba3-d12d3fb35aaf')\"\n",
              "              title=\"Convert this dataframe to an interactive table.\"\n",
              "              style=\"display:none;\">\n",
              "        \n",
              "  <svg xmlns=\"http://www.w3.org/2000/svg\" height=\"24px\"viewBox=\"0 0 24 24\"\n",
              "       width=\"24px\">\n",
              "    <path d=\"M0 0h24v24H0V0z\" fill=\"none\"/>\n",
              "    <path d=\"M18.56 5.44l.94 2.06.94-2.06 2.06-.94-2.06-.94-.94-2.06-.94 2.06-2.06.94zm-11 1L8.5 8.5l.94-2.06 2.06-.94-2.06-.94L8.5 2.5l-.94 2.06-2.06.94zm10 10l.94 2.06.94-2.06 2.06-.94-2.06-.94-.94-2.06-.94 2.06-2.06.94z\"/><path d=\"M17.41 7.96l-1.37-1.37c-.4-.4-.92-.59-1.43-.59-.52 0-1.04.2-1.43.59L10.3 9.45l-7.72 7.72c-.78.78-.78 2.05 0 2.83L4 21.41c.39.39.9.59 1.41.59.51 0 1.02-.2 1.41-.59l7.78-7.78 2.81-2.81c.8-.78.8-2.07 0-2.86zM5.41 20L4 18.59l7.72-7.72 1.47 1.35L5.41 20z\"/>\n",
              "  </svg>\n",
              "      </button>\n",
              "      \n",
              "  <style>\n",
              "    .colab-df-container {\n",
              "      display:flex;\n",
              "      flex-wrap:wrap;\n",
              "      gap: 12px;\n",
              "    }\n",
              "\n",
              "    .colab-df-convert {\n",
              "      background-color: #E8F0FE;\n",
              "      border: none;\n",
              "      border-radius: 50%;\n",
              "      cursor: pointer;\n",
              "      display: none;\n",
              "      fill: #1967D2;\n",
              "      height: 32px;\n",
              "      padding: 0 0 0 0;\n",
              "      width: 32px;\n",
              "    }\n",
              "\n",
              "    .colab-df-convert:hover {\n",
              "      background-color: #E2EBFA;\n",
              "      box-shadow: 0px 1px 2px rgba(60, 64, 67, 0.3), 0px 1px 3px 1px rgba(60, 64, 67, 0.15);\n",
              "      fill: #174EA6;\n",
              "    }\n",
              "\n",
              "    [theme=dark] .colab-df-convert {\n",
              "      background-color: #3B4455;\n",
              "      fill: #D2E3FC;\n",
              "    }\n",
              "\n",
              "    [theme=dark] .colab-df-convert:hover {\n",
              "      background-color: #434B5C;\n",
              "      box-shadow: 0px 1px 3px 1px rgba(0, 0, 0, 0.15);\n",
              "      filter: drop-shadow(0px 1px 2px rgba(0, 0, 0, 0.3));\n",
              "      fill: #FFFFFF;\n",
              "    }\n",
              "  </style>\n",
              "\n",
              "      <script>\n",
              "        const buttonEl =\n",
              "          document.querySelector('#df-49a33d2c-f6e5-4473-9ba3-d12d3fb35aaf button.colab-df-convert');\n",
              "        buttonEl.style.display =\n",
              "          google.colab.kernel.accessAllowed ? 'block' : 'none';\n",
              "\n",
              "        async function convertToInteractive(key) {\n",
              "          const element = document.querySelector('#df-49a33d2c-f6e5-4473-9ba3-d12d3fb35aaf');\n",
              "          const dataTable =\n",
              "            await google.colab.kernel.invokeFunction('convertToInteractive',\n",
              "                                                     [key], {});\n",
              "          if (!dataTable) return;\n",
              "\n",
              "          const docLinkHtml = 'Like what you see? Visit the ' +\n",
              "            '<a target=\"_blank\" href=https://colab.research.google.com/notebooks/data_table.ipynb>data table notebook</a>'\n",
              "            + ' to learn more about interactive tables.';\n",
              "          element.innerHTML = '';\n",
              "          dataTable['output_type'] = 'display_data';\n",
              "          await google.colab.output.renderOutput(dataTable, element);\n",
              "          const docLink = document.createElement('div');\n",
              "          docLink.innerHTML = docLinkHtml;\n",
              "          element.appendChild(docLink);\n",
              "        }\n",
              "      </script>\n",
              "    </div>\n",
              "  </div>\n",
              "  "
            ],
            "text/plain": [
              "   Years Experience Hired\n",
              "0                10     Y\n",
              "1                 0     Y\n",
              "2                 7     N\n",
              "3                 2     Y\n",
              "4                20     N"
            ]
          },
          "metadata": {},
          "execution_count": 38
        }
      ]
    },
    {
      "cell_type": "code",
      "source": [
        "d.sort_values(['Attr_1'])"
      ],
      "metadata": {
        "id": "s7fUPmVYa3TM",
        "colab": {
          "base_uri": "https://localhost:8080/",
          "height": 311
        },
        "outputId": "69a6f1d3-79c5-40dc-d696-c5ecd0733e5e"
      },
      "execution_count": null,
      "outputs": [
        {
          "output_type": "error",
          "ename": "KeyError",
          "evalue": "ignored",
          "traceback": [
            "\u001b[0;31m---------------------------------------------------------------------------\u001b[0m",
            "\u001b[0;31mKeyError\u001b[0m                                  Traceback (most recent call last)",
            "\u001b[0;32m<ipython-input-14-553ad7022451>\u001b[0m in \u001b[0;36m<module>\u001b[0;34m\u001b[0m\n\u001b[0;32m----> 1\u001b[0;31m \u001b[0md\u001b[0m\u001b[0;34m.\u001b[0m\u001b[0msort_values\u001b[0m\u001b[0;34m(\u001b[0m\u001b[0;34m[\u001b[0m\u001b[0;34m'Years Experience'\u001b[0m\u001b[0;34m]\u001b[0m\u001b[0;34m)\u001b[0m\u001b[0;34m\u001b[0m\u001b[0;34m\u001b[0m\u001b[0m\n\u001b[0m",
            "\u001b[0;32m/usr/local/lib/python3.7/dist-packages/pandas/util/_decorators.py\u001b[0m in \u001b[0;36mwrapper\u001b[0;34m(*args, **kwargs)\u001b[0m\n\u001b[1;32m    309\u001b[0m                     \u001b[0mstacklevel\u001b[0m\u001b[0;34m=\u001b[0m\u001b[0mstacklevel\u001b[0m\u001b[0;34m,\u001b[0m\u001b[0;34m\u001b[0m\u001b[0;34m\u001b[0m\u001b[0m\n\u001b[1;32m    310\u001b[0m                 )\n\u001b[0;32m--> 311\u001b[0;31m             \u001b[0;32mreturn\u001b[0m \u001b[0mfunc\u001b[0m\u001b[0;34m(\u001b[0m\u001b[0;34m*\u001b[0m\u001b[0margs\u001b[0m\u001b[0;34m,\u001b[0m \u001b[0;34m**\u001b[0m\u001b[0mkwargs\u001b[0m\u001b[0;34m)\u001b[0m\u001b[0;34m\u001b[0m\u001b[0;34m\u001b[0m\u001b[0m\n\u001b[0m\u001b[1;32m    312\u001b[0m \u001b[0;34m\u001b[0m\u001b[0m\n\u001b[1;32m    313\u001b[0m         \u001b[0;32mreturn\u001b[0m \u001b[0mwrapper\u001b[0m\u001b[0;34m\u001b[0m\u001b[0;34m\u001b[0m\u001b[0m\n",
            "\u001b[0;32m/usr/local/lib/python3.7/dist-packages/pandas/core/frame.py\u001b[0m in \u001b[0;36msort_values\u001b[0;34m(self, by, axis, ascending, inplace, kind, na_position, ignore_index, key)\u001b[0m\n\u001b[1;32m   6257\u001b[0m \u001b[0;34m\u001b[0m\u001b[0m\n\u001b[1;32m   6258\u001b[0m             \u001b[0mby\u001b[0m \u001b[0;34m=\u001b[0m \u001b[0mby\u001b[0m\u001b[0;34m[\u001b[0m\u001b[0;36m0\u001b[0m\u001b[0;34m]\u001b[0m\u001b[0;34m\u001b[0m\u001b[0;34m\u001b[0m\u001b[0m\n\u001b[0;32m-> 6259\u001b[0;31m             \u001b[0mk\u001b[0m \u001b[0;34m=\u001b[0m \u001b[0mself\u001b[0m\u001b[0;34m.\u001b[0m\u001b[0m_get_label_or_level_values\u001b[0m\u001b[0;34m(\u001b[0m\u001b[0mby\u001b[0m\u001b[0;34m,\u001b[0m \u001b[0maxis\u001b[0m\u001b[0;34m=\u001b[0m\u001b[0maxis\u001b[0m\u001b[0;34m)\u001b[0m\u001b[0;34m\u001b[0m\u001b[0;34m\u001b[0m\u001b[0m\n\u001b[0m\u001b[1;32m   6260\u001b[0m \u001b[0;34m\u001b[0m\u001b[0m\n\u001b[1;32m   6261\u001b[0m             \u001b[0;31m# need to rewrap column in Series to apply key function\u001b[0m\u001b[0;34m\u001b[0m\u001b[0;34m\u001b[0m\u001b[0;34m\u001b[0m\u001b[0m\n",
            "\u001b[0;32m/usr/local/lib/python3.7/dist-packages/pandas/core/generic.py\u001b[0m in \u001b[0;36m_get_label_or_level_values\u001b[0;34m(self, key, axis)\u001b[0m\n\u001b[1;32m   1777\u001b[0m             \u001b[0mvalues\u001b[0m \u001b[0;34m=\u001b[0m \u001b[0mself\u001b[0m\u001b[0;34m.\u001b[0m\u001b[0maxes\u001b[0m\u001b[0;34m[\u001b[0m\u001b[0maxis\u001b[0m\u001b[0;34m]\u001b[0m\u001b[0;34m.\u001b[0m\u001b[0mget_level_values\u001b[0m\u001b[0;34m(\u001b[0m\u001b[0mkey\u001b[0m\u001b[0;34m)\u001b[0m\u001b[0;34m.\u001b[0m\u001b[0m_values\u001b[0m\u001b[0;34m\u001b[0m\u001b[0;34m\u001b[0m\u001b[0m\n\u001b[1;32m   1778\u001b[0m         \u001b[0;32melse\u001b[0m\u001b[0;34m:\u001b[0m\u001b[0;34m\u001b[0m\u001b[0;34m\u001b[0m\u001b[0m\n\u001b[0;32m-> 1779\u001b[0;31m             \u001b[0;32mraise\u001b[0m \u001b[0mKeyError\u001b[0m\u001b[0;34m(\u001b[0m\u001b[0mkey\u001b[0m\u001b[0;34m)\u001b[0m\u001b[0;34m\u001b[0m\u001b[0;34m\u001b[0m\u001b[0m\n\u001b[0m\u001b[1;32m   1780\u001b[0m \u001b[0;34m\u001b[0m\u001b[0m\n\u001b[1;32m   1781\u001b[0m         \u001b[0;31m# Check for duplicates\u001b[0m\u001b[0;34m\u001b[0m\u001b[0;34m\u001b[0m\u001b[0;34m\u001b[0m\u001b[0m\n",
            "\u001b[0;31mKeyError\u001b[0m: 'Years Experience'"
          ]
        }
      ]
    },
    {
      "cell_type": "code",
      "source": [
        "d[['Attr_2','Attr_3']][2:5]"
      ],
      "metadata": {
        "id": "ax_CdWUkiONA",
        "colab": {
          "base_uri": "https://localhost:8080/",
          "height": 143
        },
        "outputId": "8b7c80ba-cc3b-4178-a7f7-411d700edb5d"
      },
      "execution_count": 7,
      "outputs": [
        {
          "output_type": "execute_result",
          "data": {
            "text/plain": [
              "    Attr_2   Attr_2\n",
              "2    46.71    46.71\n",
              "3  1198.97  1198.97\n",
              "4    30.94    30.94"
            ],
            "text/html": [
              "\n",
              "  <div id=\"df-753510de-7dfd-4db3-a3fd-d1a33ed11b9b\">\n",
              "    <div class=\"colab-df-container\">\n",
              "      <div>\n",
              "<style scoped>\n",
              "    .dataframe tbody tr th:only-of-type {\n",
              "        vertical-align: middle;\n",
              "    }\n",
              "\n",
              "    .dataframe tbody tr th {\n",
              "        vertical-align: top;\n",
              "    }\n",
              "\n",
              "    .dataframe thead th {\n",
              "        text-align: right;\n",
              "    }\n",
              "</style>\n",
              "<table border=\"1\" class=\"dataframe\">\n",
              "  <thead>\n",
              "    <tr style=\"text-align: right;\">\n",
              "      <th></th>\n",
              "      <th>Attr_2</th>\n",
              "      <th>Attr_2</th>\n",
              "    </tr>\n",
              "  </thead>\n",
              "  <tbody>\n",
              "    <tr>\n",
              "      <th>2</th>\n",
              "      <td>46.71</td>\n",
              "      <td>46.71</td>\n",
              "    </tr>\n",
              "    <tr>\n",
              "      <th>3</th>\n",
              "      <td>1198.97</td>\n",
              "      <td>1198.97</td>\n",
              "    </tr>\n",
              "    <tr>\n",
              "      <th>4</th>\n",
              "      <td>30.94</td>\n",
              "      <td>30.94</td>\n",
              "    </tr>\n",
              "  </tbody>\n",
              "</table>\n",
              "</div>\n",
              "      <button class=\"colab-df-convert\" onclick=\"convertToInteractive('df-753510de-7dfd-4db3-a3fd-d1a33ed11b9b')\"\n",
              "              title=\"Convert this dataframe to an interactive table.\"\n",
              "              style=\"display:none;\">\n",
              "        \n",
              "  <svg xmlns=\"http://www.w3.org/2000/svg\" height=\"24px\"viewBox=\"0 0 24 24\"\n",
              "       width=\"24px\">\n",
              "    <path d=\"M0 0h24v24H0V0z\" fill=\"none\"/>\n",
              "    <path d=\"M18.56 5.44l.94 2.06.94-2.06 2.06-.94-2.06-.94-.94-2.06-.94 2.06-2.06.94zm-11 1L8.5 8.5l.94-2.06 2.06-.94-2.06-.94L8.5 2.5l-.94 2.06-2.06.94zm10 10l.94 2.06.94-2.06 2.06-.94-2.06-.94-.94-2.06-.94 2.06-2.06.94z\"/><path d=\"M17.41 7.96l-1.37-1.37c-.4-.4-.92-.59-1.43-.59-.52 0-1.04.2-1.43.59L10.3 9.45l-7.72 7.72c-.78.78-.78 2.05 0 2.83L4 21.41c.39.39.9.59 1.41.59.51 0 1.02-.2 1.41-.59l7.78-7.78 2.81-2.81c.8-.78.8-2.07 0-2.86zM5.41 20L4 18.59l7.72-7.72 1.47 1.35L5.41 20z\"/>\n",
              "  </svg>\n",
              "      </button>\n",
              "      \n",
              "  <style>\n",
              "    .colab-df-container {\n",
              "      display:flex;\n",
              "      flex-wrap:wrap;\n",
              "      gap: 12px;\n",
              "    }\n",
              "\n",
              "    .colab-df-convert {\n",
              "      background-color: #E8F0FE;\n",
              "      border: none;\n",
              "      border-radius: 50%;\n",
              "      cursor: pointer;\n",
              "      display: none;\n",
              "      fill: #1967D2;\n",
              "      height: 32px;\n",
              "      padding: 0 0 0 0;\n",
              "      width: 32px;\n",
              "    }\n",
              "\n",
              "    .colab-df-convert:hover {\n",
              "      background-color: #E2EBFA;\n",
              "      box-shadow: 0px 1px 2px rgba(60, 64, 67, 0.3), 0px 1px 3px 1px rgba(60, 64, 67, 0.15);\n",
              "      fill: #174EA6;\n",
              "    }\n",
              "\n",
              "    [theme=dark] .colab-df-convert {\n",
              "      background-color: #3B4455;\n",
              "      fill: #D2E3FC;\n",
              "    }\n",
              "\n",
              "    [theme=dark] .colab-df-convert:hover {\n",
              "      background-color: #434B5C;\n",
              "      box-shadow: 0px 1px 3px 1px rgba(0, 0, 0, 0.15);\n",
              "      filter: drop-shadow(0px 1px 2px rgba(0, 0, 0, 0.3));\n",
              "      fill: #FFFFFF;\n",
              "    }\n",
              "  </style>\n",
              "\n",
              "      <script>\n",
              "        const buttonEl =\n",
              "          document.querySelector('#df-753510de-7dfd-4db3-a3fd-d1a33ed11b9b button.colab-df-convert');\n",
              "        buttonEl.style.display =\n",
              "          google.colab.kernel.accessAllowed ? 'block' : 'none';\n",
              "\n",
              "        async function convertToInteractive(key) {\n",
              "          const element = document.querySelector('#df-753510de-7dfd-4db3-a3fd-d1a33ed11b9b');\n",
              "          const dataTable =\n",
              "            await google.colab.kernel.invokeFunction('convertToInteractive',\n",
              "                                                     [key], {});\n",
              "          if (!dataTable) return;\n",
              "\n",
              "          const docLinkHtml = 'Like what you see? Visit the ' +\n",
              "            '<a target=\"_blank\" href=https://colab.research.google.com/notebooks/data_table.ipynb>data table notebook</a>'\n",
              "            + ' to learn more about interactive tables.';\n",
              "          element.innerHTML = '';\n",
              "          dataTable['output_type'] = 'display_data';\n",
              "          await google.colab.output.renderOutput(dataTable, element);\n",
              "          const docLink = document.createElement('div');\n",
              "          docLink.innerHTML = docLinkHtml;\n",
              "          element.appendChild(docLink);\n",
              "        }\n",
              "      </script>\n",
              "    </div>\n",
              "  </div>\n",
              "  "
            ]
          },
          "metadata": {},
          "execution_count": 7
        }
      ]
    },
    {
      "cell_type": "code",
      "source": [
        "prevemployee_count=d['Attr_4'].value_counts()\n",
        "(prevemployee_count)"
      ],
      "metadata": {
        "id": "1a9j7GctjXbZ",
        "colab": {
          "base_uri": "https://localhost:8080/"
        },
        "outputId": "4c939de8-6aaf-49c2-d1dd-e10fae571938"
      },
      "execution_count": null,
      "outputs": [
        {
          "output_type": "execute_result",
          "data": {
            "text/plain": [
              "0    4\n",
              "1    4\n",
              "2    2\n",
              "4    1\n",
              "6    1\n",
              "5    1\n",
              "Name: Previous employers, dtype: int64"
            ]
          },
          "metadata": {},
          "execution_count": 41
        }
      ]
    },
    {
      "cell_type": "code",
      "source": [
        "degree_counts = d['Attr_3'].value_counts()\n",
        "degree_counts"
      ],
      "metadata": {
        "id": "92ESEl6CbJaW",
        "colab": {
          "base_uri": "https://localhost:8080/"
        },
        "outputId": "61bc24f0-fb04-4255-8227-29ab0e12e0fd"
      },
      "execution_count": null,
      "outputs": [
        {
          "output_type": "execute_result",
          "data": {
            "text/plain": [
              "BS     7\n",
              "PhD    4\n",
              "MS     2\n",
              "Name: Level of Education, dtype: int64"
            ]
          },
          "metadata": {},
          "execution_count": 42
        }
      ]
    },
    {
      "cell_type": "code",
      "source": [
        "prevemployee_count.plot(kind='bar')"
      ],
      "metadata": {
        "id": "9P0MFb6ZlgTO",
        "colab": {
          "base_uri": "https://localhost:8080/",
          "height": 279
        },
        "outputId": "aff7a129-6103-459e-9c1b-a1fdd9127096"
      },
      "execution_count": null,
      "outputs": [
        {
          "output_type": "execute_result",
          "data": {
            "text/plain": [
              "<matplotlib.axes._subplots.AxesSubplot at 0x7f3885364f90>"
            ]
          },
          "metadata": {},
          "execution_count": 43
        },
        {
          "output_type": "display_data",
          "data": {
            "image/png": "[encoded data removed]",
            "text/plain": [
              "<Figure size 432x288 with 1 Axes>"
            ]
          },
          "metadata": {
            "needs_background": "light"
          }
        }
      ]
    },
    {
      "cell_type": "code",
      "source": [
        "degree_counts.plot(kind='pie')"
      ],
      "metadata": {
        "id": "9BT3tD3NbQH3",
        "colab": {
          "base_uri": "https://localhost:8080/",
          "height": 265
        },
        "outputId": "731a9aba-44bb-4f00-bca2-d30ef448905a"
      },
      "execution_count": null,
      "outputs": [
        {
          "output_type": "execute_result",
          "data": {
            "text/plain": [
              "<matplotlib.axes._subplots.AxesSubplot at 0x7f38852c1510>"
            ]
          },
          "metadata": {},
          "execution_count": 44
        },
        {
          "output_type": "display_data",
          "data": {
            "image/png": "[encoded data removed]",
            "text/plain": [
              "<Figure size 432x288 with 1 Axes>"
            ]
          },
          "metadata": {}
        }
      ]
    }
  ]
}