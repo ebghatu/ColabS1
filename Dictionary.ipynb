{
  "nbformat": 4,
  "nbformat_minor": 0,
  "metadata": {
    "colab": {
      "provenance": []
    },
    "kernelspec": {
      "name": "python3",
      "display_name": "Python 3"
    },
    "language_info": {
      "name": "python"
    }
  },
  "cells": [
    {
      "cell_type": "code",
      "execution_count": null,
      "metadata": {
        "colab": {
          "base_uri": "https://localhost:8080/"
        },
        "id": "PZuH9BXOOf4n",
        "outputId": "880ed053-c632-46ff-8786-732232d194d9"
      },
      "outputs": [
        {
          "output_type": "stream",
          "name": "stdout",
          "text": [
            "{'Name': ['a', 'b', 'c', 'd', 'e'], 'Mark': [10, 20, 30, 50, 50], 'Birthyear': (2001, 2005, 1998, 1995, 1932), 'ID': ('L1', 'L2', 'L3', 'L4', 'L5'), 'Age': [21, 17, 24, 27, 90]}\n"
          ]
        }
      ],
      "source": [
        "Student={}\n",
        "\n",
        "StudentName=['a','b','c','d','e']\n",
        "StudentMark=[10,20,30,50,50]\n",
        "Birthyear=(2001,2005,1998,1995,1932)\n",
        "StudentID=('L1','L2','L3','L4','L5')\n",
        "StudentAge=[]\n",
        "\n",
        "date=int(2022)\n",
        "birthyear=[2001,2005,1998,1995,1932]\n",
        "L=len(Birthyear)\n",
        "for i in range (0,L):\n",
        "  x=date-int(birthyear[i])\n",
        "  StudentAge.append(x)\n",
        "\n",
        "Student['Name']=StudentName\n",
        "Student['Mark']=StudentMark\n",
        "Student['Birthyear']=Birthyear\n",
        "Student['ID']=StudentID\n",
        "Student['Age']=StudentAge\n",
        "\n",
        "print(Student)"
      ]
    },
    {
      "cell_type": "code",
      "source": [
        "Student={}\n",
        "\n",
        "Student['Name']=['a','b','c','d','e']\n",
        "Student['Mark']=[10,20,30,50,50]\n",
        "Student['Birthyear']=(2001,2005,1998,1995,1932)\n",
        "Student['ID']=('L1','L2','L3','L4','L5')\n",
        "Student['age']=\n",
        "for i in range (0,L):\n",
        "  \n",
        "#Student['Name']=StudentName\n",
        "#Student['Mark']=StudentMark\n",
        "#Student['Birthyear']=Birthyear\n",
        "#'Student['ID']=StudentID\n",
        "print(Student)"
      ],
      "metadata": {
        "colab": {
          "base_uri": "https://localhost:8080/",
          "height": 135
        },
        "id": "agdEuvcaXDNY",
        "outputId": "01438755-87fb-4b3e-f00e-18a852ebc732"
      },
      "execution_count": null,
      "outputs": [
        {
          "output_type": "error",
          "ename": "SyntaxError",
          "evalue": "ignored",
          "traceback": [
            "\u001b[0;36m  File \u001b[0;32m\"<ipython-input-12-9e961c3cdb88>\"\u001b[0;36m, line \u001b[0;32m7\u001b[0m\n\u001b[0;31m    Student['age']=\u001b[0m\n\u001b[0m                   ^\u001b[0m\n\u001b[0;31mSyntaxError\u001b[0m\u001b[0;31m:\u001b[0m invalid syntax\n"
          ]
        }
      ]
    },
    {
      "cell_type": "code",
      "source": [
        "Age=[]\n",
        "date=int(2022)\n",
        "birthyear=[2001,2005,1998,1995,1932]\n",
        "L=len(Birthyear)\n",
        "for i in range (0,L):\n",
        "  x=date-int(birthyear[i])\n",
        "  Age.append(x)\n",
        "print(Age)\n",
        "  #print(Birthyear[i])\n"
      ],
      "metadata": {
        "colab": {
          "base_uri": "https://localhost:8080/"
        },
        "id": "IY1JPINj_E1a",
        "outputId": "d8c000e0-8d19-47d4-ca2c-f51383e9c25b"
      },
      "execution_count": null,
      "outputs": [
        {
          "output_type": "stream",
          "name": "stdout",
          "text": [
            "[21, 17, 24, 27, 90]\n"
          ]
        }
      ]
    },
    {
      "cell_type": "markdown",
      "source": [
        "."
      ],
      "metadata": {
        "id": "npcB0kbi5QmA"
      }
    },
    {
      "cell_type": "markdown",
      "source": [
        "Sum of () in list"
      ],
      "metadata": {
        "id": "HYf6HAKeJJje"
      }
    },
    {
      "cell_type": "code",
      "source": [
        "Student={}\n",
        "\n",
        "StudentName=['a','b','c','d','e']\n",
        "StudentMark=[10,20,30,50,50]\n",
        "Birthyear=(2001,2005,1998,1995,1932)\n",
        "StudentID=('L1','L2','L3','L4','L5')\n",
        "StudentAge=[]\n",
        "\n",
        "date=int(2022)\n",
        "birthyear=[2001,2005,1998,1995,1932]\n",
        "L=len(Birthyear)\n",
        "for i in range (0,L):\n",
        "  x=date-int(birthyear[i])\n",
        "  StudentAge.append(x)\n",
        "\n",
        "Student['Name']=StudentName\n",
        "Student['Mark']=StudentMark\n",
        "Student['Birthyear']=Birthyear\n",
        "Student['ID']=StudentID\n",
        "Student['Age']=StudentAge\n",
        "\n",
        "#print(Student)\n",
        "TotalMark=0\n",
        "for i in range (0,L):\n",
        "  TotalMark= TotalMark+StudentMark[i]\n",
        "print(TotalMark)\n",
        "\n",
        "print('total mark=',sum(StudentMark),'\\nMin mark=',min(StudentMark),'\\nMax mark=',max(StudentMark))\n"
      ],
      "metadata": {
        "colab": {
          "base_uri": "https://localhost:8080/"
        },
        "id": "4GUV7rgOJLxE",
        "outputId": "382a49ed-7237-47bb-ed06-ae072472b474"
      },
      "execution_count": null,
      "outputs": [
        {
          "output_type": "stream",
          "name": "stdout",
          "text": [
            "160\n",
            "total mark= 160 \n",
            "Min mark= 10 \n",
            "Max mark= 50\n"
          ]
        }
      ]
    }
  ]
}